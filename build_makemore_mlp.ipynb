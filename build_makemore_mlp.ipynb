{
 "cells": [
  {
   "cell_type": "code",
   "execution_count": 1,
   "id": "2d7f1216",
   "metadata": {},
   "outputs": [],
   "source": [
    "import torch\n",
    "import torch.nn.functional as F\n",
    "import matplotlib.pyplot as plt\n",
    "%matplotlib inline"
   ]
  },
  {
   "cell_type": "code",
   "execution_count": 2,
   "id": "f02315cc",
   "metadata": {},
   "outputs": [
    {
     "data": {
      "text/plain": [
       "['emma',\n",
       " 'olivia',\n",
       " 'ava',\n",
       " 'isabella',\n",
       " 'sophia',\n",
       " 'charlotte',\n",
       " 'mia',\n",
       " 'amelia',\n",
       " 'harper',\n",
       " 'evelyn']"
      ]
     },
     "execution_count": 2,
     "metadata": {},
     "output_type": "execute_result"
    }
   ],
   "source": [
    "# read all the words\n",
    "words = open(\"names.txt\").read().splitlines()\n",
    "words[:10]"
   ]
  },
  {
   "cell_type": "code",
   "execution_count": 3,
   "id": "647e56b9",
   "metadata": {},
   "outputs": [
    {
     "data": {
      "text/plain": [
       "32033"
      ]
     },
     "execution_count": 3,
     "metadata": {},
     "output_type": "execute_result"
    }
   ],
   "source": [
    "len(words)"
   ]
  },
  {
   "cell_type": "code",
   "execution_count": 4,
   "id": "1f27cf9e",
   "metadata": {},
   "outputs": [
    {
     "name": "stdout",
     "output_type": "stream",
     "text": [
      "{1: 'a', 2: 'b', 3: 'c', 4: 'd', 5: 'e', 6: 'f', 7: 'g', 8: 'h', 9: 'i', 10: 'j', 11: 'k', 12: 'l', 13: 'm', 14: 'n', 15: 'o', 16: 'p', 17: 'q', 18: 'r', 19: 's', 20: 't', 21: 'u', 22: 'v', 23: 'w', 24: 'x', 25: 'y', 26: 'z', 0: '.'}\n"
     ]
    }
   ],
   "source": [
    "chars = sorted(list(set(''.join(words))))\n",
    "stoi = {s:i + 1 for i, s in enumerate(chars)}\n",
    "stoi['.'] = 0\n",
    "itos = {i:s for s, i in stoi.items()}\n",
    "print(itos)"
   ]
  },
  {
   "cell_type": "code",
   "execution_count": 11,
   "id": "5a10af60",
   "metadata": {},
   "outputs": [
    {
     "name": "stdout",
     "output_type": "stream",
     "text": [
      "emma\n",
      "... -----> e\n",
      "..e -----> m\n",
      ".em -----> m\n",
      "emm -----> a\n",
      "mma -----> .\n",
      "olivia\n",
      "... -----> o\n",
      "..o -----> l\n",
      ".ol -----> i\n",
      "oli -----> v\n",
      "liv -----> i\n",
      "ivi -----> a\n",
      "via -----> .\n",
      "ava\n",
      "... -----> a\n",
      "..a -----> v\n",
      ".av -----> a\n",
      "ava -----> .\n",
      "isabella\n",
      "... -----> i\n",
      "..i -----> s\n",
      ".is -----> a\n",
      "isa -----> b\n",
      "sab -----> e\n",
      "abe -----> l\n",
      "bel -----> l\n",
      "ell -----> a\n",
      "lla -----> .\n",
      "sophia\n",
      "... -----> s\n",
      "..s -----> o\n",
      ".so -----> p\n",
      "sop -----> h\n",
      "oph -----> i\n",
      "phi -----> a\n",
      "hia -----> .\n"
     ]
    }
   ],
   "source": [
    "# build the dataset\n",
    "block_size = 3 # context length: how many characters do we take to predict the next one?\n",
    "X, Y = [], [] # inputs and targets\n",
    "for w in words[:5]:\n",
    "    print(w)\n",
    "    context = [0] * block_size # initialize with all '.' which is index 0\n",
    "    for ch in w + '.': # for each character plus the special end character\n",
    "        ix = stoi[ch] # get the index of the character\n",
    "        X.append(context) # add the current context to inputs\n",
    "        Y.append(ix) # add the current character index to targets\n",
    "        print(''.join(itos[i] for i in context), '----->', itos[ix])\n",
    "        context = context[1:] + [ix] # slide the context window, append the new character (crop and append)\n",
    "\n",
    "X = torch.tensor(X)\n",
    "Y = torch.tensor(Y)"
   ]
  },
  {
   "cell_type": "code",
   "execution_count": 12,
   "id": "6d3e3adb",
   "metadata": {},
   "outputs": [
    {
     "data": {
      "text/plain": [
       "(torch.Size([32, 3]), torch.int64, torch.Size([32]), torch.int64)"
      ]
     },
     "execution_count": 12,
     "metadata": {},
     "output_type": "execute_result"
    }
   ],
   "source": [
    "X.shape, X.dtype, Y.shape, Y.dtype"
   ]
  },
  {
   "cell_type": "code",
   "execution_count": 13,
   "id": "b627ac73",
   "metadata": {},
   "outputs": [],
   "source": [
    "C = torch.randn((27, 2)) # 27 characters, 2-dimensional character embeddings"
   ]
  },
  {
   "cell_type": "code",
   "execution_count": 14,
   "id": "99cba265",
   "metadata": {},
   "outputs": [
    {
     "data": {
      "text/plain": [
       "torch.Size([32, 3, 2])"
      ]
     },
     "execution_count": 14,
     "metadata": {},
     "output_type": "execute_result"
    }
   ],
   "source": [
    "emb = C[X] #(batch, block_size, 2)\n",
    "emb.shape"
   ]
  },
  {
   "cell_type": "code",
   "execution_count": null,
   "id": "a4bd0173",
   "metadata": {},
   "outputs": [],
   "source": [
    "W1 = torch.randn((3*2, 100))\n",
    "b1 = torch.randn(100)"
   ]
  },
  {
   "cell_type": "code",
   "execution_count": 16,
   "id": "d6252cba",
   "metadata": {},
   "outputs": [
    {
     "data": {
      "text/plain": [
       "torch.Size([32, 2])"
      ]
     },
     "execution_count": 16,
     "metadata": {},
     "output_type": "execute_result"
    }
   ],
   "source": [
    "emb[:, 0, :].shape"
   ]
  },
  {
   "cell_type": "code",
   "execution_count": null,
   "id": "e0779077",
   "metadata": {},
   "outputs": [
    {
     "data": {
      "text/plain": [
       "torch.Size([32, 6])"
      ]
     },
     "execution_count": 17,
     "metadata": {},
     "output_type": "execute_result"
    }
   ],
   "source": [
    "torch.cat([emb[:, 0, :], emb[:, 1, :], emb[:, 2, :]], dim=1).shape  # not general, cannot work with different block sizes"
   ]
  },
  {
   "cell_type": "code",
   "execution_count": 23,
   "id": "c31900e0",
   "metadata": {},
   "outputs": [
    {
     "data": {
      "text/plain": [
       "(tensor([[-0.4351,  0.3015],\n",
       "         [-0.4351,  0.3015],\n",
       "         [-0.4351,  0.3015],\n",
       "         [ 0.3770, -1.0674],\n",
       "         [ 0.6306, -0.2327],\n",
       "         [-0.4351,  0.3015],\n",
       "         [-0.4351,  0.3015],\n",
       "         [-0.4351,  0.3015],\n",
       "         [-0.7095,  1.4977],\n",
       "         [-0.7522,  0.5233],\n",
       "         [-0.3069,  1.6098],\n",
       "         [ 0.2272,  0.6587],\n",
       "         [-0.4351,  0.3015],\n",
       "         [-0.4351,  0.3015],\n",
       "         [-0.4351,  0.3015],\n",
       "         [-0.0888,  0.4837],\n",
       "         [-0.4351,  0.3015],\n",
       "         [-0.4351,  0.3015],\n",
       "         [-0.4351,  0.3015],\n",
       "         [-0.3069,  1.6098],\n",
       "         [ 1.3952, -0.3301],\n",
       "         [-0.0888,  0.4837],\n",
       "         [-0.0473,  0.9424],\n",
       "         [ 0.3770, -1.0674],\n",
       "         [-0.7522,  0.5233],\n",
       "         [-0.4351,  0.3015],\n",
       "         [-0.4351,  0.3015],\n",
       "         [-0.4351,  0.3015],\n",
       "         [ 1.3952, -0.3301],\n",
       "         [-0.7095,  1.4977],\n",
       "         [-0.1379,  0.2426],\n",
       "         [ 0.9927, -0.7458]]),\n",
       " tensor([[-0.4351,  0.3015],\n",
       "         [-0.4351,  0.3015],\n",
       "         [ 0.3770, -1.0674],\n",
       "         [ 0.6306, -0.2327],\n",
       "         [ 0.6306, -0.2327],\n",
       "         [-0.4351,  0.3015],\n",
       "         [-0.4351,  0.3015],\n",
       "         [-0.7095,  1.4977],\n",
       "         [-0.7522,  0.5233],\n",
       "         [-0.3069,  1.6098],\n",
       "         [ 0.2272,  0.6587],\n",
       "         [-0.3069,  1.6098],\n",
       "         [-0.4351,  0.3015],\n",
       "         [-0.4351,  0.3015],\n",
       "         [-0.0888,  0.4837],\n",
       "         [ 0.2272,  0.6587],\n",
       "         [-0.4351,  0.3015],\n",
       "         [-0.4351,  0.3015],\n",
       "         [-0.3069,  1.6098],\n",
       "         [ 1.3952, -0.3301],\n",
       "         [-0.0888,  0.4837],\n",
       "         [-0.0473,  0.9424],\n",
       "         [ 0.3770, -1.0674],\n",
       "         [-0.7522,  0.5233],\n",
       "         [-0.7522,  0.5233],\n",
       "         [-0.4351,  0.3015],\n",
       "         [-0.4351,  0.3015],\n",
       "         [ 1.3952, -0.3301],\n",
       "         [-0.7095,  1.4977],\n",
       "         [-0.1379,  0.2426],\n",
       "         [ 0.9927, -0.7458],\n",
       "         [-0.3069,  1.6098]]),\n",
       " tensor([[-0.4351,  0.3015],\n",
       "         [ 0.3770, -1.0674],\n",
       "         [ 0.6306, -0.2327],\n",
       "         [ 0.6306, -0.2327],\n",
       "         [-0.0888,  0.4837],\n",
       "         [-0.4351,  0.3015],\n",
       "         [-0.7095,  1.4977],\n",
       "         [-0.7522,  0.5233],\n",
       "         [-0.3069,  1.6098],\n",
       "         [ 0.2272,  0.6587],\n",
       "         [-0.3069,  1.6098],\n",
       "         [-0.0888,  0.4837],\n",
       "         [-0.4351,  0.3015],\n",
       "         [-0.0888,  0.4837],\n",
       "         [ 0.2272,  0.6587],\n",
       "         [-0.0888,  0.4837],\n",
       "         [-0.4351,  0.3015],\n",
       "         [-0.3069,  1.6098],\n",
       "         [ 1.3952, -0.3301],\n",
       "         [-0.0888,  0.4837],\n",
       "         [-0.0473,  0.9424],\n",
       "         [ 0.3770, -1.0674],\n",
       "         [-0.7522,  0.5233],\n",
       "         [-0.7522,  0.5233],\n",
       "         [-0.0888,  0.4837],\n",
       "         [-0.4351,  0.3015],\n",
       "         [ 1.3952, -0.3301],\n",
       "         [-0.7095,  1.4977],\n",
       "         [-0.1379,  0.2426],\n",
       "         [ 0.9927, -0.7458],\n",
       "         [-0.3069,  1.6098],\n",
       "         [-0.0888,  0.4837]]))"
      ]
     },
     "execution_count": 23,
     "metadata": {},
     "output_type": "execute_result"
    }
   ],
   "source": [
    "torch.unbind(emb, dim=1)"
   ]
  },
  {
   "cell_type": "code",
   "execution_count": 21,
   "id": "6e4352aa",
   "metadata": {},
   "outputs": [
    {
     "data": {
      "text/plain": [
       "3"
      ]
     },
     "execution_count": 21,
     "metadata": {},
     "output_type": "execute_result"
    }
   ],
   "source": [
    "len(torch.unbind(emb, dim=1))"
   ]
  },
  {
   "cell_type": "code",
   "execution_count": null,
   "id": "281a8b64",
   "metadata": {},
   "outputs": [
    {
     "data": {
      "text/plain": [
       "torch.Size([32, 6])"
      ]
     },
     "execution_count": 22,
     "metadata": {},
     "output_type": "execute_result"
    }
   ],
   "source": [
    "torch.cat(torch.unbind(emb, dim=1), dim=1).shape  # inefficient as it makes a new copy of the data in the memory"
   ]
  },
  {
   "cell_type": "code",
   "execution_count": 25,
   "id": "24b75042",
   "metadata": {},
   "outputs": [
    {
     "data": {
      "text/plain": [
       "torch.Size([32, 6])"
      ]
     },
     "execution_count": 25,
     "metadata": {},
     "output_type": "execute_result"
    }
   ],
   "source": [
    "# a better way to do the above\n",
    "emb.view(emb.shape[0], -1).shape"
   ]
  },
  {
   "cell_type": "code",
   "execution_count": 28,
   "id": "72888875",
   "metadata": {},
   "outputs": [
    {
     "data": {
      "text/plain": [
       "tensor([[True, True, True, True, True, True],\n",
       "        [True, True, True, True, True, True],\n",
       "        [True, True, True, True, True, True],\n",
       "        [True, True, True, True, True, True],\n",
       "        [True, True, True, True, True, True],\n",
       "        [True, True, True, True, True, True],\n",
       "        [True, True, True, True, True, True],\n",
       "        [True, True, True, True, True, True],\n",
       "        [True, True, True, True, True, True],\n",
       "        [True, True, True, True, True, True],\n",
       "        [True, True, True, True, True, True],\n",
       "        [True, True, True, True, True, True],\n",
       "        [True, True, True, True, True, True],\n",
       "        [True, True, True, True, True, True],\n",
       "        [True, True, True, True, True, True],\n",
       "        [True, True, True, True, True, True],\n",
       "        [True, True, True, True, True, True],\n",
       "        [True, True, True, True, True, True],\n",
       "        [True, True, True, True, True, True],\n",
       "        [True, True, True, True, True, True],\n",
       "        [True, True, True, True, True, True],\n",
       "        [True, True, True, True, True, True],\n",
       "        [True, True, True, True, True, True],\n",
       "        [True, True, True, True, True, True],\n",
       "        [True, True, True, True, True, True],\n",
       "        [True, True, True, True, True, True],\n",
       "        [True, True, True, True, True, True],\n",
       "        [True, True, True, True, True, True],\n",
       "        [True, True, True, True, True, True],\n",
       "        [True, True, True, True, True, True],\n",
       "        [True, True, True, True, True, True],\n",
       "        [True, True, True, True, True, True]])"
      ]
     },
     "execution_count": 28,
     "metadata": {},
     "output_type": "execute_result"
    }
   ],
   "source": [
    "emb.view(32, 6) == torch.cat(torch.unbind(emb, dim=1), dim=1)"
   ]
  },
  {
   "cell_type": "code",
   "execution_count": 29,
   "id": "ce5821ae",
   "metadata": {},
   "outputs": [],
   "source": [
    "h = emb.view(emb.shape[0], -1) @ W1 + b1 # (batch_size, 6) @ (6, 100) + (100,) --> (batch_size, 100)"
   ]
  },
  {
   "cell_type": "code",
   "execution_count": 31,
   "id": "7f6a2687",
   "metadata": {},
   "outputs": [],
   "source": [
    "h = torch.tanh(emb.view(emb.shape[0], -1) @ W1 + b1)"
   ]
  },
  {
   "cell_type": "code",
   "execution_count": 32,
   "id": "98c8588e",
   "metadata": {},
   "outputs": [
    {
     "data": {
      "text/plain": [
       "torch.Size([32, 100])"
      ]
     },
     "execution_count": 32,
     "metadata": {},
     "output_type": "execute_result"
    }
   ],
   "source": [
    "h.shape"
   ]
  },
  {
   "cell_type": "code",
   "execution_count": 33,
   "id": "31513e98",
   "metadata": {},
   "outputs": [],
   "source": [
    "W2 = torch.randn((100, 27))\n",
    "b2 = torch.randn(27)"
   ]
  },
  {
   "cell_type": "code",
   "execution_count": 34,
   "id": "79adc6dc",
   "metadata": {},
   "outputs": [
    {
     "data": {
      "text/plain": [
       "torch.Size([32, 27])"
      ]
     },
     "execution_count": 34,
     "metadata": {},
     "output_type": "execute_result"
    }
   ],
   "source": [
    "logits = h @ W2 + b2\n",
    "logits.shape"
   ]
  },
  {
   "cell_type": "code",
   "execution_count": 36,
   "id": "24698148",
   "metadata": {},
   "outputs": [],
   "source": [
    "counts = logits.exp()"
   ]
  },
  {
   "cell_type": "code",
   "execution_count": 37,
   "id": "0fd7bc7f",
   "metadata": {},
   "outputs": [],
   "source": [
    "prob = counts / counts.sum(1, keepdim=True)"
   ]
  },
  {
   "cell_type": "code",
   "execution_count": 38,
   "id": "447d8b8a",
   "metadata": {},
   "outputs": [
    {
     "data": {
      "text/plain": [
       "torch.Size([32, 27])"
      ]
     },
     "execution_count": 38,
     "metadata": {},
     "output_type": "execute_result"
    }
   ],
   "source": [
    "prob.shape"
   ]
  },
  {
   "cell_type": "code",
   "execution_count": 39,
   "id": "fb2ee5b1",
   "metadata": {},
   "outputs": [
    {
     "data": {
      "text/plain": [
       "tensor(1.0000)"
      ]
     },
     "execution_count": 39,
     "metadata": {},
     "output_type": "execute_result"
    }
   ],
   "source": [
    "prob[0].sum()"
   ]
  },
  {
   "cell_type": "code",
   "execution_count": null,
   "id": "42372b63",
   "metadata": {},
   "outputs": [
    {
     "data": {
      "text/plain": [
       "tensor(11.3539)"
      ]
     },
     "execution_count": 41,
     "metadata": {},
     "output_type": "execute_result"
    }
   ],
   "source": [
    "# 32 examples, for each example, get the probability of the correct character (from the corresponding row in prob), \n",
    "# then take the log, then take the mean over all examples, then negate it to get the average loss\n",
    "# this is the same as F.cross_entropy(logits, Y)\n",
    "# this is called the negative log likelihood loss\n",
    "loss = -prob[torch.arange(32), Y].log().mean()\n",
    "loss"
   ]
  },
  {
   "cell_type": "code",
   "execution_count": null,
   "id": "49680420",
   "metadata": {},
   "outputs": [],
   "source": []
  }
 ],
 "metadata": {
  "kernelspec": {
   "display_name": "base",
   "language": "python",
   "name": "python3"
  },
  "language_info": {
   "codemirror_mode": {
    "name": "ipython",
    "version": 3
   },
   "file_extension": ".py",
   "mimetype": "text/x-python",
   "name": "python",
   "nbconvert_exporter": "python",
   "pygments_lexer": "ipython3",
   "version": "3.11.11"
  }
 },
 "nbformat": 4,
 "nbformat_minor": 5
}
